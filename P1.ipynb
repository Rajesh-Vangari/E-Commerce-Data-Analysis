{
 "cells": [
  {
   "cell_type": "code",
   "execution_count": 1,
   "id": "f37cd5c9-a3c5-4a3f-8b95-f23f81f30734",
   "metadata": {},
   "outputs": [],
   "source": [
    "import pandas as pd\n",
    "import matplotlib.pyplot as plt\n",
    "import seaborn as sns"
   ]
  },
  {
   "cell_type": "code",
   "execution_count": 3,
   "id": "8a440305-d7da-49ff-9471-76757d3cf627",
   "metadata": {},
   "outputs": [
    {
     "data": {
      "text/html": [
       "<div>\n",
       "<style scoped>\n",
       "    .dataframe tbody tr th:only-of-type {\n",
       "        vertical-align: middle;\n",
       "    }\n",
       "\n",
       "    .dataframe tbody tr th {\n",
       "        vertical-align: top;\n",
       "    }\n",
       "\n",
       "    .dataframe thead th {\n",
       "        text-align: right;\n",
       "    }\n",
       "</style>\n",
       "<table border=\"1\" class=\"dataframe\">\n",
       "  <thead>\n",
       "    <tr style=\"text-align: right;\">\n",
       "      <th></th>\n",
       "      <th>Order_Date</th>\n",
       "      <th>Time</th>\n",
       "      <th>Aging</th>\n",
       "      <th>Customer_Id</th>\n",
       "      <th>Gender</th>\n",
       "      <th>Device_Type</th>\n",
       "      <th>Customer_Login_type</th>\n",
       "      <th>Product_Category</th>\n",
       "      <th>Product</th>\n",
       "      <th>Sales</th>\n",
       "      <th>Quantity</th>\n",
       "      <th>Discount</th>\n",
       "      <th>Profit</th>\n",
       "      <th>Shipping_Cost</th>\n",
       "      <th>Order_Priority</th>\n",
       "      <th>Payment_method</th>\n",
       "    </tr>\n",
       "  </thead>\n",
       "  <tbody>\n",
       "    <tr>\n",
       "      <th>0</th>\n",
       "      <td>2018-01-02</td>\n",
       "      <td>10:56:33</td>\n",
       "      <td>8.0</td>\n",
       "      <td>37077</td>\n",
       "      <td>Female</td>\n",
       "      <td>Web</td>\n",
       "      <td>Member</td>\n",
       "      <td>Auto &amp; Accessories</td>\n",
       "      <td>Car Media Players</td>\n",
       "      <td>140.0</td>\n",
       "      <td>1.0</td>\n",
       "      <td>0.3</td>\n",
       "      <td>46.0</td>\n",
       "      <td>4.6</td>\n",
       "      <td>Medium</td>\n",
       "      <td>credit_card</td>\n",
       "    </tr>\n",
       "    <tr>\n",
       "      <th>1</th>\n",
       "      <td>2018-07-24</td>\n",
       "      <td>20:41:37</td>\n",
       "      <td>2.0</td>\n",
       "      <td>59173</td>\n",
       "      <td>Female</td>\n",
       "      <td>Web</td>\n",
       "      <td>Member</td>\n",
       "      <td>Auto &amp; Accessories</td>\n",
       "      <td>Car Speakers</td>\n",
       "      <td>211.0</td>\n",
       "      <td>1.0</td>\n",
       "      <td>0.3</td>\n",
       "      <td>112.0</td>\n",
       "      <td>11.2</td>\n",
       "      <td>Medium</td>\n",
       "      <td>credit_card</td>\n",
       "    </tr>\n",
       "    <tr>\n",
       "      <th>2</th>\n",
       "      <td>2018-11-08</td>\n",
       "      <td>08:38:49</td>\n",
       "      <td>8.0</td>\n",
       "      <td>41066</td>\n",
       "      <td>Female</td>\n",
       "      <td>Web</td>\n",
       "      <td>Member</td>\n",
       "      <td>Auto &amp; Accessories</td>\n",
       "      <td>Car Body Covers</td>\n",
       "      <td>117.0</td>\n",
       "      <td>5.0</td>\n",
       "      <td>0.1</td>\n",
       "      <td>31.2</td>\n",
       "      <td>3.1</td>\n",
       "      <td>Critical</td>\n",
       "      <td>credit_card</td>\n",
       "    </tr>\n",
       "    <tr>\n",
       "      <th>3</th>\n",
       "      <td>2018-04-18</td>\n",
       "      <td>19:28:06</td>\n",
       "      <td>7.0</td>\n",
       "      <td>50741</td>\n",
       "      <td>Female</td>\n",
       "      <td>Web</td>\n",
       "      <td>Member</td>\n",
       "      <td>Auto &amp; Accessories</td>\n",
       "      <td>Car &amp; Bike Care</td>\n",
       "      <td>118.0</td>\n",
       "      <td>1.0</td>\n",
       "      <td>0.3</td>\n",
       "      <td>26.2</td>\n",
       "      <td>2.6</td>\n",
       "      <td>High</td>\n",
       "      <td>credit_card</td>\n",
       "    </tr>\n",
       "    <tr>\n",
       "      <th>4</th>\n",
       "      <td>2018-08-13</td>\n",
       "      <td>21:18:39</td>\n",
       "      <td>9.0</td>\n",
       "      <td>53639</td>\n",
       "      <td>Female</td>\n",
       "      <td>Web</td>\n",
       "      <td>Member</td>\n",
       "      <td>Auto &amp; Accessories</td>\n",
       "      <td>Tyre</td>\n",
       "      <td>250.0</td>\n",
       "      <td>1.0</td>\n",
       "      <td>0.3</td>\n",
       "      <td>160.0</td>\n",
       "      <td>16.0</td>\n",
       "      <td>Critical</td>\n",
       "      <td>credit_card</td>\n",
       "    </tr>\n",
       "    <tr>\n",
       "      <th>...</th>\n",
       "      <td>...</td>\n",
       "      <td>...</td>\n",
       "      <td>...</td>\n",
       "      <td>...</td>\n",
       "      <td>...</td>\n",
       "      <td>...</td>\n",
       "      <td>...</td>\n",
       "      <td>...</td>\n",
       "      <td>...</td>\n",
       "      <td>...</td>\n",
       "      <td>...</td>\n",
       "      <td>...</td>\n",
       "      <td>...</td>\n",
       "      <td>...</td>\n",
       "      <td>...</td>\n",
       "      <td>...</td>\n",
       "    </tr>\n",
       "    <tr>\n",
       "      <th>51285</th>\n",
       "      <td>2018-02-28</td>\n",
       "      <td>22:59:50</td>\n",
       "      <td>6.0</td>\n",
       "      <td>78489</td>\n",
       "      <td>Female</td>\n",
       "      <td>Mobile</td>\n",
       "      <td>Member</td>\n",
       "      <td>Home &amp; Furniture</td>\n",
       "      <td>Shoe Rack</td>\n",
       "      <td>124.0</td>\n",
       "      <td>4.0</td>\n",
       "      <td>0.3</td>\n",
       "      <td>19.2</td>\n",
       "      <td>1.9</td>\n",
       "      <td>Medium</td>\n",
       "      <td>money_order</td>\n",
       "    </tr>\n",
       "    <tr>\n",
       "      <th>51286</th>\n",
       "      <td>2018-02-28</td>\n",
       "      <td>13:19:25</td>\n",
       "      <td>2.0</td>\n",
       "      <td>91941</td>\n",
       "      <td>Female</td>\n",
       "      <td>Mobile</td>\n",
       "      <td>Member</td>\n",
       "      <td>Home &amp; Furniture</td>\n",
       "      <td>Umbrellas</td>\n",
       "      <td>70.0</td>\n",
       "      <td>5.0</td>\n",
       "      <td>0.2</td>\n",
       "      <td>14.0</td>\n",
       "      <td>1.4</td>\n",
       "      <td>Medium</td>\n",
       "      <td>credit_card</td>\n",
       "    </tr>\n",
       "    <tr>\n",
       "      <th>51287</th>\n",
       "      <td>2018-02-28</td>\n",
       "      <td>10:25:07</td>\n",
       "      <td>6.0</td>\n",
       "      <td>63313</td>\n",
       "      <td>Male</td>\n",
       "      <td>Web</td>\n",
       "      <td>Member</td>\n",
       "      <td>Home &amp; Furniture</td>\n",
       "      <td>Dinner Crockery</td>\n",
       "      <td>133.0</td>\n",
       "      <td>1.0</td>\n",
       "      <td>0.3</td>\n",
       "      <td>39.7</td>\n",
       "      <td>4.0</td>\n",
       "      <td>Medium</td>\n",
       "      <td>credit_card</td>\n",
       "    </tr>\n",
       "    <tr>\n",
       "      <th>51288</th>\n",
       "      <td>2018-02-28</td>\n",
       "      <td>10:50:08</td>\n",
       "      <td>7.0</td>\n",
       "      <td>86485</td>\n",
       "      <td>Male</td>\n",
       "      <td>Web</td>\n",
       "      <td>Member</td>\n",
       "      <td>Home &amp; Furniture</td>\n",
       "      <td>Sofa Covers</td>\n",
       "      <td>216.0</td>\n",
       "      <td>1.0</td>\n",
       "      <td>0.2</td>\n",
       "      <td>131.7</td>\n",
       "      <td>13.2</td>\n",
       "      <td>Medium</td>\n",
       "      <td>credit_card</td>\n",
       "    </tr>\n",
       "    <tr>\n",
       "      <th>51289</th>\n",
       "      <td>2018-02-28</td>\n",
       "      <td>11:09:40</td>\n",
       "      <td>5.0</td>\n",
       "      <td>81129</td>\n",
       "      <td>Male</td>\n",
       "      <td>Web</td>\n",
       "      <td>Member</td>\n",
       "      <td>Home &amp; Furniture</td>\n",
       "      <td>Bed Sheets</td>\n",
       "      <td>211.0</td>\n",
       "      <td>5.0</td>\n",
       "      <td>0.3</td>\n",
       "      <td>99.4</td>\n",
       "      <td>9.9</td>\n",
       "      <td>Medium</td>\n",
       "      <td>credit_card</td>\n",
       "    </tr>\n",
       "  </tbody>\n",
       "</table>\n",
       "<p>51290 rows × 16 columns</p>\n",
       "</div>"
      ],
      "text/plain": [
       "       Order_Date      Time  Aging  Customer_Id  Gender Device_Type  \\\n",
       "0      2018-01-02  10:56:33    8.0        37077  Female         Web   \n",
       "1      2018-07-24  20:41:37    2.0        59173  Female         Web   \n",
       "2      2018-11-08  08:38:49    8.0        41066  Female         Web   \n",
       "3      2018-04-18  19:28:06    7.0        50741  Female         Web   \n",
       "4      2018-08-13  21:18:39    9.0        53639  Female         Web   \n",
       "...           ...       ...    ...          ...     ...         ...   \n",
       "51285  2018-02-28  22:59:50    6.0        78489  Female      Mobile   \n",
       "51286  2018-02-28  13:19:25    2.0        91941  Female      Mobile   \n",
       "51287  2018-02-28  10:25:07    6.0        63313    Male         Web   \n",
       "51288  2018-02-28  10:50:08    7.0        86485    Male         Web   \n",
       "51289  2018-02-28  11:09:40    5.0        81129    Male         Web   \n",
       "\n",
       "      Customer_Login_type    Product_Category            Product  Sales  \\\n",
       "0                  Member  Auto & Accessories  Car Media Players  140.0   \n",
       "1                  Member  Auto & Accessories       Car Speakers  211.0   \n",
       "2                  Member  Auto & Accessories    Car Body Covers  117.0   \n",
       "3                  Member  Auto & Accessories    Car & Bike Care  118.0   \n",
       "4                  Member  Auto & Accessories               Tyre  250.0   \n",
       "...                   ...                 ...                ...    ...   \n",
       "51285              Member    Home & Furniture          Shoe Rack  124.0   \n",
       "51286              Member    Home & Furniture          Umbrellas   70.0   \n",
       "51287              Member    Home & Furniture    Dinner Crockery  133.0   \n",
       "51288              Member    Home & Furniture        Sofa Covers  216.0   \n",
       "51289              Member    Home & Furniture         Bed Sheets  211.0   \n",
       "\n",
       "       Quantity  Discount  Profit  Shipping_Cost Order_Priority Payment_method  \n",
       "0           1.0       0.3    46.0            4.6         Medium    credit_card  \n",
       "1           1.0       0.3   112.0           11.2         Medium    credit_card  \n",
       "2           5.0       0.1    31.2            3.1       Critical    credit_card  \n",
       "3           1.0       0.3    26.2            2.6           High    credit_card  \n",
       "4           1.0       0.3   160.0           16.0       Critical    credit_card  \n",
       "...         ...       ...     ...            ...            ...            ...  \n",
       "51285       4.0       0.3    19.2            1.9         Medium    money_order  \n",
       "51286       5.0       0.2    14.0            1.4         Medium    credit_card  \n",
       "51287       1.0       0.3    39.7            4.0         Medium    credit_card  \n",
       "51288       1.0       0.2   131.7           13.2         Medium    credit_card  \n",
       "51289       5.0       0.3    99.4            9.9         Medium    credit_card  \n",
       "\n",
       "[51290 rows x 16 columns]"
      ]
     },
     "execution_count": 3,
     "metadata": {},
     "output_type": "execute_result"
    }
   ],
   "source": [
    "df = pd.read_csv(r\"C:\\Users\\vanga\\Downloads\\archive\\E-commerce Dataset.csv\")\n",
    "df"
   ]
  },
  {
   "cell_type": "code",
   "execution_count": 5,
   "id": "7540405c-9183-4d83-8882-e7c7a28de3ab",
   "metadata": {},
   "outputs": [
    {
     "data": {
      "text/plain": [
       "(51290, 16)"
      ]
     },
     "execution_count": 5,
     "metadata": {},
     "output_type": "execute_result"
    }
   ],
   "source": [
    "df.shape\n"
   ]
  },
  {
   "cell_type": "code",
   "execution_count": 7,
   "id": "310f4517-bc38-4876-9267-c4722754525d",
   "metadata": {},
   "outputs": [
    {
     "data": {
      "text/html": [
       "<div>\n",
       "<style scoped>\n",
       "    .dataframe tbody tr th:only-of-type {\n",
       "        vertical-align: middle;\n",
       "    }\n",
       "\n",
       "    .dataframe tbody tr th {\n",
       "        vertical-align: top;\n",
       "    }\n",
       "\n",
       "    .dataframe thead th {\n",
       "        text-align: right;\n",
       "    }\n",
       "</style>\n",
       "<table border=\"1\" class=\"dataframe\">\n",
       "  <thead>\n",
       "    <tr style=\"text-align: right;\">\n",
       "      <th></th>\n",
       "      <th>Order_Date</th>\n",
       "      <th>Time</th>\n",
       "      <th>Aging</th>\n",
       "      <th>Customer_Id</th>\n",
       "      <th>Gender</th>\n",
       "      <th>Device_Type</th>\n",
       "      <th>Customer_Login_type</th>\n",
       "      <th>Product_Category</th>\n",
       "      <th>Product</th>\n",
       "      <th>Sales</th>\n",
       "      <th>Quantity</th>\n",
       "      <th>Discount</th>\n",
       "      <th>Profit</th>\n",
       "      <th>Shipping_Cost</th>\n",
       "      <th>Order_Priority</th>\n",
       "      <th>Payment_method</th>\n",
       "    </tr>\n",
       "  </thead>\n",
       "  <tbody>\n",
       "    <tr>\n",
       "      <th>0</th>\n",
       "      <td>2018-01-02</td>\n",
       "      <td>10:56:33</td>\n",
       "      <td>8.0</td>\n",
       "      <td>37077</td>\n",
       "      <td>Female</td>\n",
       "      <td>Web</td>\n",
       "      <td>Member</td>\n",
       "      <td>Auto &amp; Accessories</td>\n",
       "      <td>Car Media Players</td>\n",
       "      <td>140.0</td>\n",
       "      <td>1.0</td>\n",
       "      <td>0.3</td>\n",
       "      <td>46.0</td>\n",
       "      <td>4.6</td>\n",
       "      <td>Medium</td>\n",
       "      <td>credit_card</td>\n",
       "    </tr>\n",
       "    <tr>\n",
       "      <th>1</th>\n",
       "      <td>2018-07-24</td>\n",
       "      <td>20:41:37</td>\n",
       "      <td>2.0</td>\n",
       "      <td>59173</td>\n",
       "      <td>Female</td>\n",
       "      <td>Web</td>\n",
       "      <td>Member</td>\n",
       "      <td>Auto &amp; Accessories</td>\n",
       "      <td>Car Speakers</td>\n",
       "      <td>211.0</td>\n",
       "      <td>1.0</td>\n",
       "      <td>0.3</td>\n",
       "      <td>112.0</td>\n",
       "      <td>11.2</td>\n",
       "      <td>Medium</td>\n",
       "      <td>credit_card</td>\n",
       "    </tr>\n",
       "    <tr>\n",
       "      <th>2</th>\n",
       "      <td>2018-11-08</td>\n",
       "      <td>08:38:49</td>\n",
       "      <td>8.0</td>\n",
       "      <td>41066</td>\n",
       "      <td>Female</td>\n",
       "      <td>Web</td>\n",
       "      <td>Member</td>\n",
       "      <td>Auto &amp; Accessories</td>\n",
       "      <td>Car Body Covers</td>\n",
       "      <td>117.0</td>\n",
       "      <td>5.0</td>\n",
       "      <td>0.1</td>\n",
       "      <td>31.2</td>\n",
       "      <td>3.1</td>\n",
       "      <td>Critical</td>\n",
       "      <td>credit_card</td>\n",
       "    </tr>\n",
       "    <tr>\n",
       "      <th>3</th>\n",
       "      <td>2018-04-18</td>\n",
       "      <td>19:28:06</td>\n",
       "      <td>7.0</td>\n",
       "      <td>50741</td>\n",
       "      <td>Female</td>\n",
       "      <td>Web</td>\n",
       "      <td>Member</td>\n",
       "      <td>Auto &amp; Accessories</td>\n",
       "      <td>Car &amp; Bike Care</td>\n",
       "      <td>118.0</td>\n",
       "      <td>1.0</td>\n",
       "      <td>0.3</td>\n",
       "      <td>26.2</td>\n",
       "      <td>2.6</td>\n",
       "      <td>High</td>\n",
       "      <td>credit_card</td>\n",
       "    </tr>\n",
       "    <tr>\n",
       "      <th>4</th>\n",
       "      <td>2018-08-13</td>\n",
       "      <td>21:18:39</td>\n",
       "      <td>9.0</td>\n",
       "      <td>53639</td>\n",
       "      <td>Female</td>\n",
       "      <td>Web</td>\n",
       "      <td>Member</td>\n",
       "      <td>Auto &amp; Accessories</td>\n",
       "      <td>Tyre</td>\n",
       "      <td>250.0</td>\n",
       "      <td>1.0</td>\n",
       "      <td>0.3</td>\n",
       "      <td>160.0</td>\n",
       "      <td>16.0</td>\n",
       "      <td>Critical</td>\n",
       "      <td>credit_card</td>\n",
       "    </tr>\n",
       "    <tr>\n",
       "      <th>...</th>\n",
       "      <td>...</td>\n",
       "      <td>...</td>\n",
       "      <td>...</td>\n",
       "      <td>...</td>\n",
       "      <td>...</td>\n",
       "      <td>...</td>\n",
       "      <td>...</td>\n",
       "      <td>...</td>\n",
       "      <td>...</td>\n",
       "      <td>...</td>\n",
       "      <td>...</td>\n",
       "      <td>...</td>\n",
       "      <td>...</td>\n",
       "      <td>...</td>\n",
       "      <td>...</td>\n",
       "      <td>...</td>\n",
       "    </tr>\n",
       "    <tr>\n",
       "      <th>51285</th>\n",
       "      <td>2018-02-28</td>\n",
       "      <td>22:59:50</td>\n",
       "      <td>6.0</td>\n",
       "      <td>78489</td>\n",
       "      <td>Female</td>\n",
       "      <td>Mobile</td>\n",
       "      <td>Member</td>\n",
       "      <td>Home &amp; Furniture</td>\n",
       "      <td>Shoe Rack</td>\n",
       "      <td>124.0</td>\n",
       "      <td>4.0</td>\n",
       "      <td>0.3</td>\n",
       "      <td>19.2</td>\n",
       "      <td>1.9</td>\n",
       "      <td>Medium</td>\n",
       "      <td>money_order</td>\n",
       "    </tr>\n",
       "    <tr>\n",
       "      <th>51286</th>\n",
       "      <td>2018-02-28</td>\n",
       "      <td>13:19:25</td>\n",
       "      <td>2.0</td>\n",
       "      <td>91941</td>\n",
       "      <td>Female</td>\n",
       "      <td>Mobile</td>\n",
       "      <td>Member</td>\n",
       "      <td>Home &amp; Furniture</td>\n",
       "      <td>Umbrellas</td>\n",
       "      <td>70.0</td>\n",
       "      <td>5.0</td>\n",
       "      <td>0.2</td>\n",
       "      <td>14.0</td>\n",
       "      <td>1.4</td>\n",
       "      <td>Medium</td>\n",
       "      <td>credit_card</td>\n",
       "    </tr>\n",
       "    <tr>\n",
       "      <th>51287</th>\n",
       "      <td>2018-02-28</td>\n",
       "      <td>10:25:07</td>\n",
       "      <td>6.0</td>\n",
       "      <td>63313</td>\n",
       "      <td>Male</td>\n",
       "      <td>Web</td>\n",
       "      <td>Member</td>\n",
       "      <td>Home &amp; Furniture</td>\n",
       "      <td>Dinner Crockery</td>\n",
       "      <td>133.0</td>\n",
       "      <td>1.0</td>\n",
       "      <td>0.3</td>\n",
       "      <td>39.7</td>\n",
       "      <td>4.0</td>\n",
       "      <td>Medium</td>\n",
       "      <td>credit_card</td>\n",
       "    </tr>\n",
       "    <tr>\n",
       "      <th>51288</th>\n",
       "      <td>2018-02-28</td>\n",
       "      <td>10:50:08</td>\n",
       "      <td>7.0</td>\n",
       "      <td>86485</td>\n",
       "      <td>Male</td>\n",
       "      <td>Web</td>\n",
       "      <td>Member</td>\n",
       "      <td>Home &amp; Furniture</td>\n",
       "      <td>Sofa Covers</td>\n",
       "      <td>216.0</td>\n",
       "      <td>1.0</td>\n",
       "      <td>0.2</td>\n",
       "      <td>131.7</td>\n",
       "      <td>13.2</td>\n",
       "      <td>Medium</td>\n",
       "      <td>credit_card</td>\n",
       "    </tr>\n",
       "    <tr>\n",
       "      <th>51289</th>\n",
       "      <td>2018-02-28</td>\n",
       "      <td>11:09:40</td>\n",
       "      <td>5.0</td>\n",
       "      <td>81129</td>\n",
       "      <td>Male</td>\n",
       "      <td>Web</td>\n",
       "      <td>Member</td>\n",
       "      <td>Home &amp; Furniture</td>\n",
       "      <td>Bed Sheets</td>\n",
       "      <td>211.0</td>\n",
       "      <td>5.0</td>\n",
       "      <td>0.3</td>\n",
       "      <td>99.4</td>\n",
       "      <td>9.9</td>\n",
       "      <td>Medium</td>\n",
       "      <td>credit_card</td>\n",
       "    </tr>\n",
       "  </tbody>\n",
       "</table>\n",
       "<p>51290 rows × 16 columns</p>\n",
       "</div>"
      ],
      "text/plain": [
       "       Order_Date      Time  Aging  Customer_Id  Gender Device_Type  \\\n",
       "0      2018-01-02  10:56:33    8.0        37077  Female         Web   \n",
       "1      2018-07-24  20:41:37    2.0        59173  Female         Web   \n",
       "2      2018-11-08  08:38:49    8.0        41066  Female         Web   \n",
       "3      2018-04-18  19:28:06    7.0        50741  Female         Web   \n",
       "4      2018-08-13  21:18:39    9.0        53639  Female         Web   \n",
       "...           ...       ...    ...          ...     ...         ...   \n",
       "51285  2018-02-28  22:59:50    6.0        78489  Female      Mobile   \n",
       "51286  2018-02-28  13:19:25    2.0        91941  Female      Mobile   \n",
       "51287  2018-02-28  10:25:07    6.0        63313    Male         Web   \n",
       "51288  2018-02-28  10:50:08    7.0        86485    Male         Web   \n",
       "51289  2018-02-28  11:09:40    5.0        81129    Male         Web   \n",
       "\n",
       "      Customer_Login_type    Product_Category            Product  Sales  \\\n",
       "0                  Member  Auto & Accessories  Car Media Players  140.0   \n",
       "1                  Member  Auto & Accessories       Car Speakers  211.0   \n",
       "2                  Member  Auto & Accessories    Car Body Covers  117.0   \n",
       "3                  Member  Auto & Accessories    Car & Bike Care  118.0   \n",
       "4                  Member  Auto & Accessories               Tyre  250.0   \n",
       "...                   ...                 ...                ...    ...   \n",
       "51285              Member    Home & Furniture          Shoe Rack  124.0   \n",
       "51286              Member    Home & Furniture          Umbrellas   70.0   \n",
       "51287              Member    Home & Furniture    Dinner Crockery  133.0   \n",
       "51288              Member    Home & Furniture        Sofa Covers  216.0   \n",
       "51289              Member    Home & Furniture         Bed Sheets  211.0   \n",
       "\n",
       "       Quantity  Discount  Profit  Shipping_Cost Order_Priority Payment_method  \n",
       "0           1.0       0.3    46.0            4.6         Medium    credit_card  \n",
       "1           1.0       0.3   112.0           11.2         Medium    credit_card  \n",
       "2           5.0       0.1    31.2            3.1       Critical    credit_card  \n",
       "3           1.0       0.3    26.2            2.6           High    credit_card  \n",
       "4           1.0       0.3   160.0           16.0       Critical    credit_card  \n",
       "...         ...       ...     ...            ...            ...            ...  \n",
       "51285       4.0       0.3    19.2            1.9         Medium    money_order  \n",
       "51286       5.0       0.2    14.0            1.4         Medium    credit_card  \n",
       "51287       1.0       0.3    39.7            4.0         Medium    credit_card  \n",
       "51288       1.0       0.2   131.7           13.2         Medium    credit_card  \n",
       "51289       5.0       0.3    99.4            9.9         Medium    credit_card  \n",
       "\n",
       "[51290 rows x 16 columns]"
      ]
     },
     "execution_count": 7,
     "metadata": {},
     "output_type": "execute_result"
    }
   ],
   "source": [
    "df.drop_duplicates()"
   ]
  },
  {
   "cell_type": "code",
   "execution_count": 9,
   "id": "abd8a39d-88ab-4c47-804d-c2994ce457d8",
   "metadata": {},
   "outputs": [
    {
     "data": {
      "text/plain": [
       "Order_Date             0\n",
       "Time                   0\n",
       "Aging                  1\n",
       "Customer_Id            0\n",
       "Gender                 0\n",
       "Device_Type            0\n",
       "Customer_Login_type    0\n",
       "Product_Category       0\n",
       "Product                0\n",
       "Sales                  1\n",
       "Quantity               2\n",
       "Discount               1\n",
       "Profit                 0\n",
       "Shipping_Cost          1\n",
       "Order_Priority         2\n",
       "Payment_method         0\n",
       "dtype: int64"
      ]
     },
     "execution_count": 9,
     "metadata": {},
     "output_type": "execute_result"
    }
   ],
   "source": [
    "df.isna().sum()"
   ]
  },
  {
   "cell_type": "code",
   "execution_count": 11,
   "id": "240562ec-1351-4381-b863-5aea3abd7df3",
   "metadata": {},
   "outputs": [],
   "source": [
    "df['Aging'] = df['Aging'].fillna(df['Aging'].median())\n",
    "df['Sales'] = df['Sales'].fillna(df['Sales'].median())\n",
    "df['Quantity'] = df['Quantity'].fillna(df['Quantity'].median())\n",
    "df['Discount'] = df['Discount'].fillna(df['Discount'].median())\n",
    "df['Shipping_Cost'] = df['Shipping_Cost'].fillna(df['Shipping_Cost'].median())\n",
    "df['Order_Priority'] = df['Order_Priority'].fillna(df['Order_Priority'].mode()[0])"
   ]
  },
  {
   "cell_type": "code",
   "execution_count": 13,
   "id": "49f1636a-6e64-4221-a41f-a816611a5450",
   "metadata": {},
   "outputs": [
    {
     "data": {
      "text/plain": [
       "Order_Date             0\n",
       "Time                   0\n",
       "Aging                  0\n",
       "Customer_Id            0\n",
       "Gender                 0\n",
       "Device_Type            0\n",
       "Customer_Login_type    0\n",
       "Product_Category       0\n",
       "Product                0\n",
       "Sales                  0\n",
       "Quantity               0\n",
       "Discount               0\n",
       "Profit                 0\n",
       "Shipping_Cost          0\n",
       "Order_Priority         0\n",
       "Payment_method         0\n",
       "dtype: int64"
      ]
     },
     "execution_count": 13,
     "metadata": {},
     "output_type": "execute_result"
    }
   ],
   "source": [
    "df.isna().sum()"
   ]
  },
  {
   "cell_type": "code",
   "execution_count": 15,
   "id": "121303a7-20fd-46d3-802f-2c1ca178931f",
   "metadata": {},
   "outputs": [
    {
     "data": {
      "text/html": [
       "<div>\n",
       "<style scoped>\n",
       "    .dataframe tbody tr th:only-of-type {\n",
       "        vertical-align: middle;\n",
       "    }\n",
       "\n",
       "    .dataframe tbody tr th {\n",
       "        vertical-align: top;\n",
       "    }\n",
       "\n",
       "    .dataframe thead th {\n",
       "        text-align: right;\n",
       "    }\n",
       "</style>\n",
       "<table border=\"1\" class=\"dataframe\">\n",
       "  <thead>\n",
       "    <tr style=\"text-align: right;\">\n",
       "      <th></th>\n",
       "      <th>Aging</th>\n",
       "      <th>Customer_Id</th>\n",
       "      <th>Sales</th>\n",
       "      <th>Quantity</th>\n",
       "      <th>Discount</th>\n",
       "      <th>Profit</th>\n",
       "      <th>Shipping_Cost</th>\n",
       "    </tr>\n",
       "  </thead>\n",
       "  <tbody>\n",
       "    <tr>\n",
       "      <th>count</th>\n",
       "      <td>51290.00000</td>\n",
       "      <td>51290.000000</td>\n",
       "      <td>51290.000000</td>\n",
       "      <td>51290.000000</td>\n",
       "      <td>51290.000000</td>\n",
       "      <td>51290.000000</td>\n",
       "      <td>51290.000000</td>\n",
       "    </tr>\n",
       "    <tr>\n",
       "      <th>mean</th>\n",
       "      <td>5.25503</td>\n",
       "      <td>58155.758764</td>\n",
       "      <td>152.340495</td>\n",
       "      <td>2.502964</td>\n",
       "      <td>0.303821</td>\n",
       "      <td>70.407226</td>\n",
       "      <td>7.041536</td>\n",
       "    </tr>\n",
       "    <tr>\n",
       "      <th>std</th>\n",
       "      <td>2.95992</td>\n",
       "      <td>26032.215826</td>\n",
       "      <td>66.494826</td>\n",
       "      <td>1.511832</td>\n",
       "      <td>0.131025</td>\n",
       "      <td>48.729488</td>\n",
       "      <td>4.871699</td>\n",
       "    </tr>\n",
       "    <tr>\n",
       "      <th>min</th>\n",
       "      <td>1.00000</td>\n",
       "      <td>10000.000000</td>\n",
       "      <td>33.000000</td>\n",
       "      <td>1.000000</td>\n",
       "      <td>0.100000</td>\n",
       "      <td>0.500000</td>\n",
       "      <td>0.100000</td>\n",
       "    </tr>\n",
       "    <tr>\n",
       "      <th>25%</th>\n",
       "      <td>3.00000</td>\n",
       "      <td>35831.250000</td>\n",
       "      <td>85.000000</td>\n",
       "      <td>1.000000</td>\n",
       "      <td>0.200000</td>\n",
       "      <td>24.900000</td>\n",
       "      <td>2.500000</td>\n",
       "    </tr>\n",
       "    <tr>\n",
       "      <th>50%</th>\n",
       "      <td>5.00000</td>\n",
       "      <td>61018.000000</td>\n",
       "      <td>133.000000</td>\n",
       "      <td>2.000000</td>\n",
       "      <td>0.300000</td>\n",
       "      <td>59.900000</td>\n",
       "      <td>6.000000</td>\n",
       "    </tr>\n",
       "    <tr>\n",
       "      <th>75%</th>\n",
       "      <td>8.00000</td>\n",
       "      <td>80736.250000</td>\n",
       "      <td>218.000000</td>\n",
       "      <td>4.000000</td>\n",
       "      <td>0.400000</td>\n",
       "      <td>118.400000</td>\n",
       "      <td>11.800000</td>\n",
       "    </tr>\n",
       "    <tr>\n",
       "      <th>max</th>\n",
       "      <td>10.50000</td>\n",
       "      <td>99999.000000</td>\n",
       "      <td>250.000000</td>\n",
       "      <td>5.000000</td>\n",
       "      <td>0.500000</td>\n",
       "      <td>167.500000</td>\n",
       "      <td>16.800000</td>\n",
       "    </tr>\n",
       "  </tbody>\n",
       "</table>\n",
       "</div>"
      ],
      "text/plain": [
       "             Aging   Customer_Id         Sales      Quantity      Discount  \\\n",
       "count  51290.00000  51290.000000  51290.000000  51290.000000  51290.000000   \n",
       "mean       5.25503  58155.758764    152.340495      2.502964      0.303821   \n",
       "std        2.95992  26032.215826     66.494826      1.511832      0.131025   \n",
       "min        1.00000  10000.000000     33.000000      1.000000      0.100000   \n",
       "25%        3.00000  35831.250000     85.000000      1.000000      0.200000   \n",
       "50%        5.00000  61018.000000    133.000000      2.000000      0.300000   \n",
       "75%        8.00000  80736.250000    218.000000      4.000000      0.400000   \n",
       "max       10.50000  99999.000000    250.000000      5.000000      0.500000   \n",
       "\n",
       "             Profit  Shipping_Cost  \n",
       "count  51290.000000   51290.000000  \n",
       "mean      70.407226       7.041536  \n",
       "std       48.729488       4.871699  \n",
       "min        0.500000       0.100000  \n",
       "25%       24.900000       2.500000  \n",
       "50%       59.900000       6.000000  \n",
       "75%      118.400000      11.800000  \n",
       "max      167.500000      16.800000  "
      ]
     },
     "execution_count": 15,
     "metadata": {},
     "output_type": "execute_result"
    }
   ],
   "source": [
    "df.describe()"
   ]
  },
  {
   "cell_type": "code",
   "execution_count": 17,
   "id": "c357f4d3-6010-4aa6-95f3-c4504125f3a0",
   "metadata": {},
   "outputs": [
    {
     "data": {
      "text/plain": [
       "Index(['Order_Date', 'Time', 'Aging', 'Customer_Id', 'Gender', 'Device_Type',\n",
       "       'Customer_Login_type', 'Product_Category', 'Product', 'Sales',\n",
       "       'Quantity', 'Discount', 'Profit', 'Shipping_Cost', 'Order_Priority',\n",
       "       'Payment_method'],\n",
       "      dtype='object')"
      ]
     },
     "execution_count": 17,
     "metadata": {},
     "output_type": "execute_result"
    }
   ],
   "source": [
    "df.columns"
   ]
  },
  {
   "cell_type": "code",
   "execution_count": 19,
   "id": "42f91b08-cfba-49b4-afd4-744b92bce510",
   "metadata": {},
   "outputs": [
    {
     "data": {
      "text/plain": [
       "0        2018-01-02\n",
       "1        2018-07-24\n",
       "2        2018-11-08\n",
       "3        2018-04-18\n",
       "4        2018-08-13\n",
       "            ...    \n",
       "51285    2018-02-28\n",
       "51286    2018-02-28\n",
       "51287    2018-02-28\n",
       "51288    2018-02-28\n",
       "51289    2018-02-28\n",
       "Name: Order_Date, Length: 51290, dtype: object"
      ]
     },
     "execution_count": 19,
     "metadata": {},
     "output_type": "execute_result"
    }
   ],
   "source": [
    "df.Order_Date"
   ]
  },
  {
   "cell_type": "code",
   "execution_count": null,
   "id": "53c60385-05eb-498b-b8e8-213a1c14cccd",
   "metadata": {},
   "outputs": [],
   "source": [
    "### Finding Insights on ORDER_DATE\n",
    "#1.which day of the month of 30 days most orders are placed\n",
    "#2.which day of week are most order placed among 7 days\n",
    "#3. which month most orders are placed among 12 months \n",
    "\n"
   ]
  },
  {
   "cell_type": "code",
   "execution_count": 21,
   "id": "8246eaa7-d9f5-4819-9b69-ef80ceb7a73e",
   "metadata": {
    "scrolled": true
   },
   "outputs": [
    {
     "data": {
      "text/plain": [
       "<Axes: xlabel='Order_Date', ylabel='Count'>"
      ]
     },
     "execution_count": 21,
     "metadata": {},
     "output_type": "execute_result"
    },
    {
     "data": {
      "image/png": "[encoded data removed]",
      "text/plain": [
       "<Figure size 640x480 with 1 Axes>"
      ]
     },
     "metadata": {},
     "output_type": "display_data"
    }
   ],
   "source": [
    "df['Order_Date'] = pd.to_datetime(df['Order_Date'])\n",
    "day_of_order = df['Order_Date'].dt.day\n",
    "sns.histplot(day_of_order ,bins = 30)\n"
   ]
  },
  {
   "cell_type": "code",
   "execution_count": null,
   "id": "707ae850-c89a-4cd6-baa3-aab78cf10fcf",
   "metadata": {},
   "outputs": [],
   "source": [
    "## According to dataset 30th of Every Month the most Orders are placed"
   ]
  },
  {
   "cell_type": "code",
   "execution_count": 23,
   "id": "75969cdc-e621-44f0-a598-6349a416a9e5",
   "metadata": {
    "scrolled": true
   },
   "outputs": [
    {
     "data": {
      "text/plain": [
       "<Axes: xlabel='Order_Date', ylabel='Count'>"
      ]
     },
     "execution_count": 23,
     "metadata": {},
     "output_type": "execute_result"
    },
    {
     "data": {
      "image/png": "[encoded data removed]",
      "text/plain": [
       "<Figure size 640x480 with 1 Axes>"
      ]
     },
     "metadata": {},
     "output_type": "display_data"
    }
   ],
   "source": [
    "dayofweek_order = df['Order_Date'].dt.dayofweek\n",
    "sns.histplot(dayofweek_order , bins = 177)"
   ]
  },
  {
   "cell_type": "code",
   "execution_count": null,
   "id": "c966c30f-16a9-4009-8583-d5c1d6e3425c",
   "metadata": {},
   "outputs": [],
   "source": [
    "### Every Tuesday of the week most orders are placed  Here 0 indicates monday goes on to 6 which is sunday "
   ]
  },
  {
   "cell_type": "code",
   "execution_count": 25,
   "id": "efcde367-78db-415b-8a9f-3eb5cc959bb2",
   "metadata": {},
   "outputs": [
    {
     "data": {
      "text/plain": [
       "<Axes: xlabel='Order_Date', ylabel='Count'>"
      ]
     },
     "execution_count": 25,
     "metadata": {},
     "output_type": "execute_result"
    },
    {
     "data": {
      "image/png": "[encoded data removed]",
      "text/plain": [
       "<Figure size 640x480 with 1 Axes>"
      ]
     },
     "metadata": {},
     "output_type": "display_data"
    }
   ],
   "source": [
    "month_order = df['Order_Date'].dt.month\n",
    "sns.histplot(month_order,bins = 12,kde = True)"
   ]
  },
  {
   "cell_type": "code",
   "execution_count": 27,
   "id": "0c3f9e6b-46cd-42c0-aa79-37f5952b061d",
   "metadata": {},
   "outputs": [
    {
     "name": "stderr",
     "output_type": "stream",
     "text": [
      "C:\\Users\\vanga\\AppData\\Local\\Temp\\ipykernel_29948\\897215701.py:1: UserWarning: Could not infer format, so each element will be parsed individually, falling back to `dateutil`. To ensure parsing is consistent and as-expected, please specify a format.\n",
      "  df['Time'] = pd.to_datetime(df['Time'])\n"
     ]
    }
   ],
   "source": [
    "df['Time'] = pd.to_datetime(df['Time'])\n",
    "Hour_of_order = df['Time'].dt.hour\n"
   ]
  },
  {
   "cell_type": "code",
   "execution_count": 29,
   "id": "b3fc43df-ae8a-4897-902d-50d556a21c94",
   "metadata": {},
   "outputs": [
    {
     "data": {
      "text/plain": [
       "<Axes: xlabel='Time', ylabel='Count'>"
      ]
     },
     "execution_count": 29,
     "metadata": {},
     "output_type": "execute_result"
    },
    {
     "data": {
      "image/png": "[encoded data removed]",
      "text/plain": [
       "<Figure size 640x480 with 1 Axes>"
      ]
     },
     "metadata": {},
     "output_type": "display_data"
    }
   ],
   "source": [
    "sns.histplot(Hour_of_order , bins = 24)"
   ]
  },
  {
   "cell_type": "code",
   "execution_count": null,
   "id": "2d56fdaa-c3c2-4cd3-8b4d-66eff0e9faf5",
   "metadata": {},
   "outputs": [],
   "source": [
    "## The peak time the order are placed at the from 10 Am  to 5 Pm Mostly Afternoon is mostly placed"
   ]
  },
  {
   "cell_type": "code",
   "execution_count": null,
   "id": "a9eecdda-ca65-42d4-bf4c-9e83d01ae0ce",
   "metadata": {},
   "outputs": [],
   "source": [
    "Aging\n",
    "### The time from the day the product is ordered to the day it is delivered."
   ]
  },
  {
   "cell_type": "code",
   "execution_count": 31,
   "id": "defc9bd8-f317-4d5e-9b8f-4d46f33c4a3b",
   "metadata": {},
   "outputs": [
    {
     "data": {
      "text/plain": [
       "array([ 8. ,  2. ,  7. ,  9. ,  1. , 10. ,  5. ,  4. ,  6. ,  3. , 10.5])"
      ]
     },
     "execution_count": 31,
     "metadata": {},
     "output_type": "execute_result"
    }
   ],
   "source": [
    "df.Aging.unique()"
   ]
  },
  {
   "cell_type": "code",
   "execution_count": 33,
   "id": "74e7dd9d-3137-4e58-b8f9-9d9028a345a8",
   "metadata": {},
   "outputs": [
    {
     "data": {
      "text/plain": [
       "<Axes: xlabel='Aging', ylabel='Count'>"
      ]
     },
     "execution_count": 33,
     "metadata": {},
     "output_type": "execute_result"
    },
    {
     "data": {
      "image/png": "[encoded data removed]",
      "text/plain": [
       "<Figure size 640x480 with 1 Axes>"
      ]
     },
     "metadata": {},
     "output_type": "display_data"
    }
   ],
   "source": [
    "sns.histplot(df.Aging, bins = 120)"
   ]
  },
  {
   "cell_type": "code",
   "execution_count": null,
   "id": "b0ba0c32-966b-4b99-8ec9-00ca263dc719",
   "metadata": {},
   "outputs": [],
   "source": [
    "### Most Orders are deliverd in just 1 day itself"
   ]
  },
  {
   "cell_type": "code",
   "execution_count": 35,
   "id": "15e10ad8-3388-47b2-a0af-c1d7029ddfe9",
   "metadata": {},
   "outputs": [
    {
     "data": {
      "text/plain": [
       "Gender\n",
       "Male      28138\n",
       "Female    23152\n",
       "Name: count, dtype: int64"
      ]
     },
     "execution_count": 35,
     "metadata": {},
     "output_type": "execute_result"
    }
   ],
   "source": [
    "gender_counts = df['Gender'].value_counts()\n",
    "gender_counts"
   ]
  },
  {
   "cell_type": "code",
   "execution_count": 37,
   "id": "dee35e75-0b47-4c64-b94b-0fcc9ea3c7f1",
   "metadata": {},
   "outputs": [
    {
     "data": {
      "image/png": "[encoded data removed]",
      "text/plain": [
       "<Figure size 600x300 with 1 Axes>"
      ]
     },
     "metadata": {},
     "output_type": "display_data"
    }
   ],
   "source": [
    "gender_counts = df['Gender'].value_counts().reset_index()\n",
    "gender_counts.columns = ['Gender', 'Count']\n",
    "\n",
    "plt.figure(figsize=(6, 3))\n",
    "ax = sns.barplot(x='Gender', y='Count', data=gender_counts)\n",
    "\n",
    "\n",
    "colors = ['lightblue', 'lightcoral']  \n",
    "\n",
    "for bar, color in zip(ax.patches, colors):\n",
    "    bar.set_facecolor(color)\n",
    "\n",
    "plt.xlabel('Gender')\n",
    "plt.ylabel('Count')\n",
    "plt.title('Gender Distribution')\n",
    "plt.show()"
   ]
  },
  {
   "cell_type": "code",
   "execution_count": null,
   "id": "81a56a50-2dde-4b84-ac61-0b699242221a",
   "metadata": {},
   "outputs": [],
   "source": [
    "## Men are more Placing orders compared to Women"
   ]
  },
  {
   "cell_type": "code",
   "execution_count": 39,
   "id": "4fb8bcd3-2aab-425a-a69d-09edaccd9806",
   "metadata": {},
   "outputs": [
    {
     "data": {
      "text/plain": [
       "Index(['Order_Date', 'Time', 'Aging', 'Customer_Id', 'Gender', 'Device_Type',\n",
       "       'Customer_Login_type', 'Product_Category', 'Product', 'Sales',\n",
       "       'Quantity', 'Discount', 'Profit', 'Shipping_Cost', 'Order_Priority',\n",
       "       'Payment_method'],\n",
       "      dtype='object')"
      ]
     },
     "execution_count": 39,
     "metadata": {},
     "output_type": "execute_result"
    }
   ],
   "source": [
    "df.columns\n"
   ]
  },
  {
   "cell_type": "code",
   "execution_count": 41,
   "id": "9c568b31-1e52-49de-be61-4e258d7f9a80",
   "metadata": {},
   "outputs": [],
   "source": [
    "device = df.Device_Type"
   ]
  },
  {
   "cell_type": "code",
   "execution_count": 43,
   "id": "b72eb573-f86e-4b48-993d-1e6d7d048415",
   "metadata": {},
   "outputs": [],
   "source": [
    "web = df[df['Device_Type'] == 'Web']\n",
    "mobile = df[df['Device_Type'] == 'Mobile']\n"
   ]
  },
  {
   "cell_type": "code",
   "execution_count": 45,
   "id": "f73369f6-0be4-4170-a67a-6089a6bc82d0",
   "metadata": {},
   "outputs": [
    {
     "data": {
      "text/plain": [
       "array(['Web', 'Mobile'], dtype=object)"
      ]
     },
     "execution_count": 45,
     "metadata": {},
     "output_type": "execute_result"
    }
   ],
   "source": [
    "device.unique()"
   ]
  },
  {
   "cell_type": "code",
   "execution_count": 47,
   "id": "18de27ba-07a9-45fb-a37d-93a75700dc15",
   "metadata": {},
   "outputs": [
    {
     "data": {
      "image/png": "[encoded data removed]",
      "text/plain": [
       "<Figure size 400x400 with 1 Axes>"
      ]
     },
     "metadata": {},
     "output_type": "display_data"
    }
   ],
   "source": [
    "device_counts = df['Device_Type'].value_counts()\n",
    "\n",
    "\n",
    "plt.figure(figsize=(4, 4))\n",
    "plt.pie(device_counts, labels=device_counts.index, autopct='%1.1f%%', colors=['skyblue', 'lightcoral'])\n",
    "plt.title('Proportion of Orders by Device Type')\n",
    "plt.show()"
   ]
  },
  {
   "cell_type": "code",
   "execution_count": null,
   "id": "60458e88-213d-41ef-a999-de51475cda61",
   "metadata": {},
   "outputs": [],
   "source": [
    "## Most orders are placed using Laptop/ Desktop through web portal"
   ]
  },
  {
   "cell_type": "code",
   "execution_count": 49,
   "id": "f5844a10-2a60-40ee-8e74-910627ca5175",
   "metadata": {},
   "outputs": [
    {
     "data": {
      "text/plain": [
       "Device_Type\n",
       "Web       47632\n",
       "Mobile     3658\n",
       "Name: count, dtype: int64"
      ]
     },
     "execution_count": 49,
     "metadata": {},
     "output_type": "execute_result"
    }
   ],
   "source": [
    "device_counts"
   ]
  },
  {
   "cell_type": "code",
   "execution_count": 51,
   "id": "5e07e9e6-8e90-46fa-97a0-94a87a4a49f1",
   "metadata": {},
   "outputs": [
    {
     "data": {
      "text/plain": [
       "Index(['Order_Date', 'Time', 'Aging', 'Customer_Id', 'Gender', 'Device_Type',\n",
       "       'Customer_Login_type', 'Product_Category', 'Product', 'Sales',\n",
       "       'Quantity', 'Discount', 'Profit', 'Shipping_Cost', 'Order_Priority',\n",
       "       'Payment_method'],\n",
       "      dtype='object')"
      ]
     },
     "execution_count": 51,
     "metadata": {},
     "output_type": "execute_result"
    }
   ],
   "source": [
    "df.columns"
   ]
  },
  {
   "cell_type": "code",
   "execution_count": 53,
   "id": "7ee878a8-a8a8-4ec3-a804-586041de8e90",
   "metadata": {},
   "outputs": [
    {
     "data": {
      "text/plain": [
       "Customer_Login_type\n",
       "Member          49097\n",
       "Guest            1993\n",
       "First SignUp      173\n",
       "New                27\n",
       "Name: count, dtype: int64"
      ]
     },
     "execution_count": 53,
     "metadata": {},
     "output_type": "execute_result"
    }
   ],
   "source": [
    "login_type = df['Customer_Login_type'].value_counts()\n",
    "login_type"
   ]
  },
  {
   "cell_type": "code",
   "execution_count": 55,
   "id": "da2fc7ce-5a56-417a-bd6d-03db500da2aa",
   "metadata": {},
   "outputs": [
    {
     "data": {
      "image/png": "[encoded data removed]",
      "text/plain": [
       "<Figure size 640x480 with 1 Axes>"
      ]
     },
     "metadata": {},
     "output_type": "display_data"
    }
   ],
   "source": [
    "colors = ['skyblue', 'lightgreen', 'salmon', 'orange']\n",
    "login_type.plot(kind='barh', color= colors)\n",
    "plt.title('Distribution of Customer Login Types')\n",
    "plt.xlabel('Count')\n",
    "plt.ylabel('Customer Login Type')\n",
    "plt.show()\n"
   ]
  },
  {
   "cell_type": "code",
   "execution_count": null,
   "id": "903ab8cd-3020-45db-b085-6f67df7921f7",
   "metadata": {},
   "outputs": [],
   "source": [
    "### Most of the Users are of Members who have valid account "
   ]
  },
  {
   "cell_type": "code",
   "execution_count": 57,
   "id": "97dd2444-49ab-4282-974c-4b15c0a75845",
   "metadata": {},
   "outputs": [
    {
     "data": {
      "text/plain": [
       "array(['Auto & Accessories', 'Fashion', 'Electronic', 'Home & Furniture'],\n",
       "      dtype=object)"
      ]
     },
     "execution_count": 57,
     "metadata": {},
     "output_type": "execute_result"
    }
   ],
   "source": [
    "df.Product_Category.unique()"
   ]
  },
  {
   "cell_type": "code",
   "execution_count": 59,
   "id": "b9a7d631-5a62-4349-8536-1b75da747e8e",
   "metadata": {},
   "outputs": [
    {
     "data": {
      "text/plain": [
       "Product_Category\n",
       "Fashion               25646\n",
       "Home & Furniture      15438\n",
       "Auto & Accessories     7505\n",
       "Electronic             2701\n",
       "Name: count, dtype: int64"
      ]
     },
     "execution_count": 59,
     "metadata": {},
     "output_type": "execute_result"
    }
   ],
   "source": [
    "Prod_c =  df['Product_Category'].value_counts()\n",
    "Prod_c"
   ]
  },
  {
   "cell_type": "code",
   "execution_count": 61,
   "id": "0cddf510-d631-4ed4-9d61-2f4d46120e48",
   "metadata": {},
   "outputs": [
    {
     "data": {
      "image/png": "[encoded data removed]",
      "text/plain": [
       "<Figure size 640x480 with 1 Axes>"
      ]
     },
     "metadata": {},
     "output_type": "display_data"
    }
   ],
   "source": [
    "plt.pie(Prod_c, labels=Prod_c.index, autopct='%1.1f%%', colors=['cornflowerblue', 'mediumseagreen', 'tomato', 'gold'])\n",
    "center_circle = plt.Circle((0, 0), 0.70, fc='white')\n",
    "fig = plt.gcf()\n",
    "fig.gca().add_artist(center_circle)\n",
    "\n",
    "plt.title('Distribution of Product Categories')\n",
    "\n",
    "plt.axis('equal')\n",
    "\n",
    "plt.show()"
   ]
  },
  {
   "cell_type": "code",
   "execution_count": null,
   "id": "5d0b5994-2cc3-4682-b2c7-48b816734607",
   "metadata": {},
   "outputs": [],
   "source": [
    "## Above Donut chart represents Most People are ordering Fashion as their first Priority"
   ]
  },
  {
   "cell_type": "code",
   "execution_count": 63,
   "id": "e269dcb4-34e2-44d6-b135-5d9f7fc2ac64",
   "metadata": {},
   "outputs": [],
   "source": [
    "gender_product_counts = df.groupby(['Gender', 'Product_Category']).size().reset_index(name='Count')"
   ]
  },
  {
   "cell_type": "code",
   "execution_count": 65,
   "id": "e058ad6e-4782-4d8c-afa3-ed95d46c3a04",
   "metadata": {},
   "outputs": [
    {
     "data": {
      "text/html": [
       "<div>\n",
       "<style scoped>\n",
       "    .dataframe tbody tr th:only-of-type {\n",
       "        vertical-align: middle;\n",
       "    }\n",
       "\n",
       "    .dataframe tbody tr th {\n",
       "        vertical-align: top;\n",
       "    }\n",
       "\n",
       "    .dataframe thead th {\n",
       "        text-align: right;\n",
       "    }\n",
       "</style>\n",
       "<table border=\"1\" class=\"dataframe\">\n",
       "  <thead>\n",
       "    <tr style=\"text-align: right;\">\n",
       "      <th></th>\n",
       "      <th>Gender</th>\n",
       "      <th>Product_Category</th>\n",
       "      <th>Count</th>\n",
       "    </tr>\n",
       "  </thead>\n",
       "  <tbody>\n",
       "    <tr>\n",
       "      <th>0</th>\n",
       "      <td>Female</td>\n",
       "      <td>Auto &amp; Accessories</td>\n",
       "      <td>2323</td>\n",
       "    </tr>\n",
       "    <tr>\n",
       "      <th>1</th>\n",
       "      <td>Female</td>\n",
       "      <td>Electronic</td>\n",
       "      <td>1484</td>\n",
       "    </tr>\n",
       "    <tr>\n",
       "      <th>2</th>\n",
       "      <td>Female</td>\n",
       "      <td>Fashion</td>\n",
       "      <td>11365</td>\n",
       "    </tr>\n",
       "    <tr>\n",
       "      <th>3</th>\n",
       "      <td>Female</td>\n",
       "      <td>Home &amp; Furniture</td>\n",
       "      <td>7980</td>\n",
       "    </tr>\n",
       "    <tr>\n",
       "      <th>4</th>\n",
       "      <td>Male</td>\n",
       "      <td>Auto &amp; Accessories</td>\n",
       "      <td>5182</td>\n",
       "    </tr>\n",
       "    <tr>\n",
       "      <th>5</th>\n",
       "      <td>Male</td>\n",
       "      <td>Electronic</td>\n",
       "      <td>1217</td>\n",
       "    </tr>\n",
       "    <tr>\n",
       "      <th>6</th>\n",
       "      <td>Male</td>\n",
       "      <td>Fashion</td>\n",
       "      <td>14281</td>\n",
       "    </tr>\n",
       "    <tr>\n",
       "      <th>7</th>\n",
       "      <td>Male</td>\n",
       "      <td>Home &amp; Furniture</td>\n",
       "      <td>7458</td>\n",
       "    </tr>\n",
       "  </tbody>\n",
       "</table>\n",
       "</div>"
      ],
      "text/plain": [
       "   Gender    Product_Category  Count\n",
       "0  Female  Auto & Accessories   2323\n",
       "1  Female          Electronic   1484\n",
       "2  Female             Fashion  11365\n",
       "3  Female    Home & Furniture   7980\n",
       "4    Male  Auto & Accessories   5182\n",
       "5    Male          Electronic   1217\n",
       "6    Male             Fashion  14281\n",
       "7    Male    Home & Furniture   7458"
      ]
     },
     "execution_count": 65,
     "metadata": {},
     "output_type": "execute_result"
    }
   ],
   "source": [
    "gender_product_counts"
   ]
  },
  {
   "cell_type": "code",
   "execution_count": null,
   "id": "f4241417-d1b5-4b0d-b08d-228bda62fb50",
   "metadata": {},
   "outputs": [],
   "source": [
    "## Men are more choosing Fashion then women"
   ]
  },
  {
   "cell_type": "code",
   "execution_count": 67,
   "id": "3cabd561-029f-417e-a1c3-670985fcad3e",
   "metadata": {},
   "outputs": [
    {
     "data": {
      "text/html": [
       "<div>\n",
       "<style scoped>\n",
       "    .dataframe tbody tr th:only-of-type {\n",
       "        vertical-align: middle;\n",
       "    }\n",
       "\n",
       "    .dataframe tbody tr th {\n",
       "        vertical-align: top;\n",
       "    }\n",
       "\n",
       "    .dataframe thead th {\n",
       "        text-align: right;\n",
       "    }\n",
       "</style>\n",
       "<table border=\"1\" class=\"dataframe\">\n",
       "  <thead>\n",
       "    <tr style=\"text-align: right;\">\n",
       "      <th></th>\n",
       "      <th>Product_Category</th>\n",
       "      <th>Discount</th>\n",
       "      <th>Count</th>\n",
       "    </tr>\n",
       "  </thead>\n",
       "  <tbody>\n",
       "    <tr>\n",
       "      <th>0</th>\n",
       "      <td>Auto &amp; Accessories</td>\n",
       "      <td>0.1</td>\n",
       "      <td>1983</td>\n",
       "    </tr>\n",
       "    <tr>\n",
       "      <th>1</th>\n",
       "      <td>Auto &amp; Accessories</td>\n",
       "      <td>0.2</td>\n",
       "      <td>2472</td>\n",
       "    </tr>\n",
       "    <tr>\n",
       "      <th>2</th>\n",
       "      <td>Auto &amp; Accessories</td>\n",
       "      <td>0.3</td>\n",
       "      <td>3050</td>\n",
       "    </tr>\n",
       "    <tr>\n",
       "      <th>3</th>\n",
       "      <td>Electronic</td>\n",
       "      <td>0.1</td>\n",
       "      <td>1089</td>\n",
       "    </tr>\n",
       "    <tr>\n",
       "      <th>4</th>\n",
       "      <td>Electronic</td>\n",
       "      <td>0.2</td>\n",
       "      <td>1612</td>\n",
       "    </tr>\n",
       "    <tr>\n",
       "      <th>5</th>\n",
       "      <td>Fashion</td>\n",
       "      <td>0.1</td>\n",
       "      <td>3074</td>\n",
       "    </tr>\n",
       "    <tr>\n",
       "      <th>6</th>\n",
       "      <td>Fashion</td>\n",
       "      <td>0.2</td>\n",
       "      <td>3005</td>\n",
       "    </tr>\n",
       "    <tr>\n",
       "      <th>7</th>\n",
       "      <td>Fashion</td>\n",
       "      <td>0.3</td>\n",
       "      <td>4214</td>\n",
       "    </tr>\n",
       "    <tr>\n",
       "      <th>8</th>\n",
       "      <td>Fashion</td>\n",
       "      <td>0.4</td>\n",
       "      <td>7182</td>\n",
       "    </tr>\n",
       "    <tr>\n",
       "      <th>9</th>\n",
       "      <td>Fashion</td>\n",
       "      <td>0.5</td>\n",
       "      <td>8171</td>\n",
       "    </tr>\n",
       "    <tr>\n",
       "      <th>10</th>\n",
       "      <td>Home &amp; Furniture</td>\n",
       "      <td>0.1</td>\n",
       "      <td>1063</td>\n",
       "    </tr>\n",
       "    <tr>\n",
       "      <th>11</th>\n",
       "      <td>Home &amp; Furniture</td>\n",
       "      <td>0.2</td>\n",
       "      <td>5163</td>\n",
       "    </tr>\n",
       "    <tr>\n",
       "      <th>12</th>\n",
       "      <td>Home &amp; Furniture</td>\n",
       "      <td>0.3</td>\n",
       "      <td>5139</td>\n",
       "    </tr>\n",
       "    <tr>\n",
       "      <th>13</th>\n",
       "      <td>Home &amp; Furniture</td>\n",
       "      <td>0.4</td>\n",
       "      <td>3040</td>\n",
       "    </tr>\n",
       "    <tr>\n",
       "      <th>14</th>\n",
       "      <td>Home &amp; Furniture</td>\n",
       "      <td>0.5</td>\n",
       "      <td>1033</td>\n",
       "    </tr>\n",
       "  </tbody>\n",
       "</table>\n",
       "</div>"
      ],
      "text/plain": [
       "      Product_Category  Discount  Count\n",
       "0   Auto & Accessories       0.1   1983\n",
       "1   Auto & Accessories       0.2   2472\n",
       "2   Auto & Accessories       0.3   3050\n",
       "3           Electronic       0.1   1089\n",
       "4           Electronic       0.2   1612\n",
       "5              Fashion       0.1   3074\n",
       "6              Fashion       0.2   3005\n",
       "7              Fashion       0.3   4214\n",
       "8              Fashion       0.4   7182\n",
       "9              Fashion       0.5   8171\n",
       "10    Home & Furniture       0.1   1063\n",
       "11    Home & Furniture       0.2   5163\n",
       "12    Home & Furniture       0.3   5139\n",
       "13    Home & Furniture       0.4   3040\n",
       "14    Home & Furniture       0.5   1033"
      ]
     },
     "execution_count": 67,
     "metadata": {},
     "output_type": "execute_result"
    }
   ],
   "source": [
    "Dis_counts = df.groupby(['Product_Category', 'Discount']).size().reset_index(name='Count')\n",
    "Dis_counts"
   ]
  },
  {
   "cell_type": "code",
   "execution_count": 69,
   "id": "26b5f8d6-e3b5-45df-83b8-30736f958b3a",
   "metadata": {},
   "outputs": [
    {
     "data": {
      "image/png": "[encoded data removed]",
      "text/plain": [
       "<Figure size 800x400 with 1 Axes>"
      ]
     },
     "metadata": {},
     "output_type": "display_data"
    }
   ],
   "source": [
    "plt.figure(figsize=(8, 4)) \n",
    "sns.barplot(data=Dis_counts, x='Product_Category', y='Count', hue='Discount', palette='viridis')\n",
    "plt.title('Counts of Products by Category and Discount')\n",
    "plt.xlabel('Product Category')\n",
    "plt.ylabel('Count')\n",
    "plt.xticks(rotation=45)\n",
    "plt.legend(title='Discount')\n",
    "plt.tight_layout()\n",
    "\n",
    "plt.show()"
   ]
  },
  {
   "cell_type": "code",
   "execution_count": null,
   "id": "f56b82a2-94c4-41c8-891a-83a94aa286fd",
   "metadata": {},
   "outputs": [],
   "source": [
    "## Most discount is given to Fashon followed by "
   ]
  },
  {
   "cell_type": "code",
   "execution_count": 71,
   "id": "a0a1a0d0-9f88-422e-98ca-dc7286106462",
   "metadata": {},
   "outputs": [
    {
     "data": {
      "text/plain": [
       "Discount\n",
       "0.3    12403\n",
       "0.2    12252\n",
       "0.4    10222\n",
       "0.5     9204\n",
       "0.1     7209\n",
       "Name: count, dtype: int64"
      ]
     },
     "execution_count": 71,
     "metadata": {},
     "output_type": "execute_result"
    }
   ],
   "source": [
    "discount_counts = df['Discount'].value_counts()\n",
    "discount_counts"
   ]
  },
  {
   "cell_type": "code",
   "execution_count": 73,
   "id": "baefdf9d-6e87-47df-95d8-98ca760dec00",
   "metadata": {},
   "outputs": [
    {
     "data": {
      "image/png": "[encoded data removed]",
      "text/plain": [
       "<Figure size 600x600 with 1 Axes>"
      ]
     },
     "metadata": {},
     "output_type": "display_data"
    }
   ],
   "source": [
    "colors = ['#ff9999', '#66b3ff', '#99ff99', '#ffcc99', '#c2c2f0']\n",
    "plt.figure(figsize=(6, 6))\n",
    "plt.pie(discount_counts, labels=discount_counts.index, autopct='%1.1f%%', colors=colors)\n",
    "plt.title('Proportion of Orders by Discount')\n",
    "plt.show()"
   ]
  },
  {
   "cell_type": "code",
   "execution_count": null,
   "id": "41fe5a41-bd33-494f-8c19-1b0a7026330b",
   "metadata": {},
   "outputs": [],
   "source": [
    "## Most Discounts is given 0.3 percent"
   ]
  },
  {
   "cell_type": "code",
   "execution_count": 75,
   "id": "e3fcd10f-cf32-48d4-be92-d369a5b3911a",
   "metadata": {},
   "outputs": [
    {
     "data": {
      "text/plain": [
       "Payment_method\n",
       "credit_card    38137\n",
       "money_order     9629\n",
       "e_wallet        2789\n",
       "debit_card       734\n",
       "not_defined        1\n",
       "Name: count, dtype: int64"
      ]
     },
     "execution_count": 75,
     "metadata": {},
     "output_type": "execute_result"
    }
   ],
   "source": [
    "pay_ments = df['Payment_method'].value_counts()\n",
    "pay_ments"
   ]
  },
  {
   "cell_type": "code",
   "execution_count": 77,
   "id": "357e5c8e-69e4-4f6c-b1f3-5fafce3dc65b",
   "metadata": {},
   "outputs": [
    {
     "data": {
      "text/html": [
       "<div>\n",
       "<style scoped>\n",
       "    .dataframe tbody tr th:only-of-type {\n",
       "        vertical-align: middle;\n",
       "    }\n",
       "\n",
       "    .dataframe tbody tr th {\n",
       "        vertical-align: top;\n",
       "    }\n",
       "\n",
       "    .dataframe thead th {\n",
       "        text-align: right;\n",
       "    }\n",
       "</style>\n",
       "<table border=\"1\" class=\"dataframe\">\n",
       "  <thead>\n",
       "    <tr style=\"text-align: right;\">\n",
       "      <th></th>\n",
       "      <th>Payment_method</th>\n",
       "      <th>Discount</th>\n",
       "      <th>Count</th>\n",
       "    </tr>\n",
       "  </thead>\n",
       "  <tbody>\n",
       "    <tr>\n",
       "      <th>0</th>\n",
       "      <td>credit_card</td>\n",
       "      <td>0.1</td>\n",
       "      <td>5413</td>\n",
       "    </tr>\n",
       "    <tr>\n",
       "      <th>1</th>\n",
       "      <td>credit_card</td>\n",
       "      <td>0.2</td>\n",
       "      <td>9097</td>\n",
       "    </tr>\n",
       "    <tr>\n",
       "      <th>2</th>\n",
       "      <td>credit_card</td>\n",
       "      <td>0.3</td>\n",
       "      <td>9227</td>\n",
       "    </tr>\n",
       "    <tr>\n",
       "      <th>3</th>\n",
       "      <td>credit_card</td>\n",
       "      <td>0.4</td>\n",
       "      <td>7562</td>\n",
       "    </tr>\n",
       "    <tr>\n",
       "      <th>4</th>\n",
       "      <td>credit_card</td>\n",
       "      <td>0.5</td>\n",
       "      <td>6838</td>\n",
       "    </tr>\n",
       "    <tr>\n",
       "      <th>5</th>\n",
       "      <td>debit_card</td>\n",
       "      <td>0.1</td>\n",
       "      <td>115</td>\n",
       "    </tr>\n",
       "    <tr>\n",
       "      <th>6</th>\n",
       "      <td>debit_card</td>\n",
       "      <td>0.2</td>\n",
       "      <td>179</td>\n",
       "    </tr>\n",
       "    <tr>\n",
       "      <th>7</th>\n",
       "      <td>debit_card</td>\n",
       "      <td>0.3</td>\n",
       "      <td>182</td>\n",
       "    </tr>\n",
       "    <tr>\n",
       "      <th>8</th>\n",
       "      <td>debit_card</td>\n",
       "      <td>0.4</td>\n",
       "      <td>123</td>\n",
       "    </tr>\n",
       "    <tr>\n",
       "      <th>9</th>\n",
       "      <td>debit_card</td>\n",
       "      <td>0.5</td>\n",
       "      <td>135</td>\n",
       "    </tr>\n",
       "    <tr>\n",
       "      <th>10</th>\n",
       "      <td>e_wallet</td>\n",
       "      <td>0.1</td>\n",
       "      <td>354</td>\n",
       "    </tr>\n",
       "    <tr>\n",
       "      <th>11</th>\n",
       "      <td>e_wallet</td>\n",
       "      <td>0.2</td>\n",
       "      <td>684</td>\n",
       "    </tr>\n",
       "    <tr>\n",
       "      <th>12</th>\n",
       "      <td>e_wallet</td>\n",
       "      <td>0.3</td>\n",
       "      <td>675</td>\n",
       "    </tr>\n",
       "    <tr>\n",
       "      <th>13</th>\n",
       "      <td>e_wallet</td>\n",
       "      <td>0.4</td>\n",
       "      <td>577</td>\n",
       "    </tr>\n",
       "    <tr>\n",
       "      <th>14</th>\n",
       "      <td>e_wallet</td>\n",
       "      <td>0.5</td>\n",
       "      <td>499</td>\n",
       "    </tr>\n",
       "    <tr>\n",
       "      <th>15</th>\n",
       "      <td>money_order</td>\n",
       "      <td>0.1</td>\n",
       "      <td>1327</td>\n",
       "    </tr>\n",
       "    <tr>\n",
       "      <th>16</th>\n",
       "      <td>money_order</td>\n",
       "      <td>0.2</td>\n",
       "      <td>2292</td>\n",
       "    </tr>\n",
       "    <tr>\n",
       "      <th>17</th>\n",
       "      <td>money_order</td>\n",
       "      <td>0.3</td>\n",
       "      <td>2319</td>\n",
       "    </tr>\n",
       "    <tr>\n",
       "      <th>18</th>\n",
       "      <td>money_order</td>\n",
       "      <td>0.4</td>\n",
       "      <td>1959</td>\n",
       "    </tr>\n",
       "    <tr>\n",
       "      <th>19</th>\n",
       "      <td>money_order</td>\n",
       "      <td>0.5</td>\n",
       "      <td>1732</td>\n",
       "    </tr>\n",
       "    <tr>\n",
       "      <th>20</th>\n",
       "      <td>not_defined</td>\n",
       "      <td>0.4</td>\n",
       "      <td>1</td>\n",
       "    </tr>\n",
       "  </tbody>\n",
       "</table>\n",
       "</div>"
      ],
      "text/plain": [
       "   Payment_method  Discount  Count\n",
       "0     credit_card       0.1   5413\n",
       "1     credit_card       0.2   9097\n",
       "2     credit_card       0.3   9227\n",
       "3     credit_card       0.4   7562\n",
       "4     credit_card       0.5   6838\n",
       "5      debit_card       0.1    115\n",
       "6      debit_card       0.2    179\n",
       "7      debit_card       0.3    182\n",
       "8      debit_card       0.4    123\n",
       "9      debit_card       0.5    135\n",
       "10       e_wallet       0.1    354\n",
       "11       e_wallet       0.2    684\n",
       "12       e_wallet       0.3    675\n",
       "13       e_wallet       0.4    577\n",
       "14       e_wallet       0.5    499\n",
       "15    money_order       0.1   1327\n",
       "16    money_order       0.2   2292\n",
       "17    money_order       0.3   2319\n",
       "18    money_order       0.4   1959\n",
       "19    money_order       0.5   1732\n",
       "20    not_defined       0.4      1"
      ]
     },
     "execution_count": 77,
     "metadata": {},
     "output_type": "execute_result"
    }
   ],
   "source": [
    "df.groupby(['Payment_method', 'Discount']).size().reset_index(name='Count')"
   ]
  },
  {
   "cell_type": "code",
   "execution_count": 83,
   "id": "8f627661-1ac1-4d98-a2ce-827c876c722b",
   "metadata": {},
   "outputs": [
    {
     "data": {
      "text/html": [
       "<div>\n",
       "<style scoped>\n",
       "    .dataframe tbody tr th:only-of-type {\n",
       "        vertical-align: middle;\n",
       "    }\n",
       "\n",
       "    .dataframe tbody tr th {\n",
       "        vertical-align: top;\n",
       "    }\n",
       "\n",
       "    .dataframe thead th {\n",
       "        text-align: right;\n",
       "    }\n",
       "</style>\n",
       "<table border=\"1\" class=\"dataframe\">\n",
       "  <thead>\n",
       "    <tr style=\"text-align: right;\">\n",
       "      <th></th>\n",
       "      <th>Payment_method</th>\n",
       "      <th>Product_Category</th>\n",
       "      <th>Count</th>\n",
       "    </tr>\n",
       "  </thead>\n",
       "  <tbody>\n",
       "    <tr>\n",
       "      <th>0</th>\n",
       "      <td>credit_card</td>\n",
       "      <td>Auto &amp; Accessories</td>\n",
       "      <td>5572</td>\n",
       "    </tr>\n",
       "    <tr>\n",
       "      <th>1</th>\n",
       "      <td>credit_card</td>\n",
       "      <td>Electronic</td>\n",
       "      <td>2042</td>\n",
       "    </tr>\n",
       "    <tr>\n",
       "      <th>2</th>\n",
       "      <td>credit_card</td>\n",
       "      <td>Fashion</td>\n",
       "      <td>19045</td>\n",
       "    </tr>\n",
       "    <tr>\n",
       "      <th>3</th>\n",
       "      <td>credit_card</td>\n",
       "      <td>Home &amp; Furniture</td>\n",
       "      <td>11478</td>\n",
       "    </tr>\n",
       "    <tr>\n",
       "      <th>4</th>\n",
       "      <td>debit_card</td>\n",
       "      <td>Auto &amp; Accessories</td>\n",
       "      <td>113</td>\n",
       "    </tr>\n",
       "    <tr>\n",
       "      <th>5</th>\n",
       "      <td>debit_card</td>\n",
       "      <td>Electronic</td>\n",
       "      <td>30</td>\n",
       "    </tr>\n",
       "    <tr>\n",
       "      <th>6</th>\n",
       "      <td>debit_card</td>\n",
       "      <td>Fashion</td>\n",
       "      <td>377</td>\n",
       "    </tr>\n",
       "    <tr>\n",
       "      <th>7</th>\n",
       "      <td>debit_card</td>\n",
       "      <td>Home &amp; Furniture</td>\n",
       "      <td>214</td>\n",
       "    </tr>\n",
       "    <tr>\n",
       "      <th>8</th>\n",
       "      <td>e_wallet</td>\n",
       "      <td>Auto &amp; Accessories</td>\n",
       "      <td>421</td>\n",
       "    </tr>\n",
       "    <tr>\n",
       "      <th>9</th>\n",
       "      <td>e_wallet</td>\n",
       "      <td>Electronic</td>\n",
       "      <td>127</td>\n",
       "    </tr>\n",
       "    <tr>\n",
       "      <th>10</th>\n",
       "      <td>e_wallet</td>\n",
       "      <td>Fashion</td>\n",
       "      <td>1383</td>\n",
       "    </tr>\n",
       "    <tr>\n",
       "      <th>11</th>\n",
       "      <td>e_wallet</td>\n",
       "      <td>Home &amp; Furniture</td>\n",
       "      <td>858</td>\n",
       "    </tr>\n",
       "    <tr>\n",
       "      <th>12</th>\n",
       "      <td>money_order</td>\n",
       "      <td>Auto &amp; Accessories</td>\n",
       "      <td>1399</td>\n",
       "    </tr>\n",
       "    <tr>\n",
       "      <th>13</th>\n",
       "      <td>money_order</td>\n",
       "      <td>Electronic</td>\n",
       "      <td>502</td>\n",
       "    </tr>\n",
       "    <tr>\n",
       "      <th>14</th>\n",
       "      <td>money_order</td>\n",
       "      <td>Fashion</td>\n",
       "      <td>4841</td>\n",
       "    </tr>\n",
       "    <tr>\n",
       "      <th>15</th>\n",
       "      <td>money_order</td>\n",
       "      <td>Home &amp; Furniture</td>\n",
       "      <td>2887</td>\n",
       "    </tr>\n",
       "    <tr>\n",
       "      <th>16</th>\n",
       "      <td>not_defined</td>\n",
       "      <td>Home &amp; Furniture</td>\n",
       "      <td>1</td>\n",
       "    </tr>\n",
       "  </tbody>\n",
       "</table>\n",
       "</div>"
      ],
      "text/plain": [
       "   Payment_method    Product_Category  Count\n",
       "0     credit_card  Auto & Accessories   5572\n",
       "1     credit_card          Electronic   2042\n",
       "2     credit_card             Fashion  19045\n",
       "3     credit_card    Home & Furniture  11478\n",
       "4      debit_card  Auto & Accessories    113\n",
       "5      debit_card          Electronic     30\n",
       "6      debit_card             Fashion    377\n",
       "7      debit_card    Home & Furniture    214\n",
       "8        e_wallet  Auto & Accessories    421\n",
       "9        e_wallet          Electronic    127\n",
       "10       e_wallet             Fashion   1383\n",
       "11       e_wallet    Home & Furniture    858\n",
       "12    money_order  Auto & Accessories   1399\n",
       "13    money_order          Electronic    502\n",
       "14    money_order             Fashion   4841\n",
       "15    money_order    Home & Furniture   2887\n",
       "16    not_defined    Home & Furniture      1"
      ]
     },
     "execution_count": 83,
     "metadata": {},
     "output_type": "execute_result"
    }
   ],
   "source": [
    "grouped_df = df.groupby(['Payment_method', 'Product_Category']).size().reset_index(name='Count')\n",
    "grouped_df"
   ]
  },
  {
   "cell_type": "code",
   "execution_count": 87,
   "id": "1fa0dae0-0d60-4d7c-b027-389d8ae2a0aa",
   "metadata": {},
   "outputs": [
    {
     "data": {
      "image/png": "[encoded data removed]",
      "text/plain": [
       "<Figure size 1000x600 with 1 Axes>"
      ]
     },
     "metadata": {},
     "output_type": "display_data"
    }
   ],
   "source": [
    "color_map = {\n",
    "    'credit_card': '#1f77b4',  \n",
    "    'money_order': '#ff7f0e',  \n",
    "    'e_wallet': '#2ca02c',     \n",
    "    'debit_card': '#d62728',   \n",
    "    'not_defined': '#9467bd'  \n",
    "}\n",
    "\n",
    "plt.figure(figsize=(10, 6))\n",
    "\n",
    "sns.barplot(data=grouped_df, x='Product_Category', y='Count', hue='Payment_method', dodge=True,\n",
    "            palette=color_map)\n",
    "\n",
    "plt.title('Counts of Products by Payment Method and Category')\n",
    "plt.xlabel('Product Category')\n",
    "plt.ylabel('Count')\n",
    "plt.xticks(rotation=45)\n",
    "plt.legend(title='Payment Method')\n",
    "plt.tight_layout()\n",
    "\n",
    "plt.show()"
   ]
  },
  {
   "cell_type": "code",
   "execution_count": null,
   "id": "5d1e6d93-3218-40af-96a3-8e0a4ca1d123",
   "metadata": {},
   "outputs": [],
   "source": [
    "## most paymentys are done through Credit_cards in every Product_category"
   ]
  },
  {
   "cell_type": "code",
   "execution_count": 91,
   "id": "46bd30e0-5c4f-4b77-bab0-356edf99d191",
   "metadata": {},
   "outputs": [
    {
     "data": {
      "text/plain": [
       "Order_Priority\n",
       "Medium      29435\n",
       "High        15499\n",
       "Critical     3932\n",
       "Low          2424\n",
       "Name: count, dtype: int64"
      ]
     },
     "execution_count": 91,
     "metadata": {},
     "output_type": "execute_result"
    }
   ],
   "source": [
    "df.Order_Priority.value_counts()"
   ]
  },
  {
   "cell_type": "code",
   "execution_count": 111,
   "id": "9e89fe5b-37d5-4cc4-a995-1f9b100d8d4e",
   "metadata": {},
   "outputs": [
    {
     "data": {
      "text/html": [
       "<div>\n",
       "<style scoped>\n",
       "    .dataframe tbody tr th:only-of-type {\n",
       "        vertical-align: middle;\n",
       "    }\n",
       "\n",
       "    .dataframe tbody tr th {\n",
       "        vertical-align: top;\n",
       "    }\n",
       "\n",
       "    .dataframe thead th {\n",
       "        text-align: right;\n",
       "    }\n",
       "</style>\n",
       "<table border=\"1\" class=\"dataframe\">\n",
       "  <thead>\n",
       "    <tr style=\"text-align: right;\">\n",
       "      <th></th>\n",
       "      <th>Order_Priority</th>\n",
       "      <th>Payment_method</th>\n",
       "      <th>Count</th>\n",
       "    </tr>\n",
       "  </thead>\n",
       "  <tbody>\n",
       "    <tr>\n",
       "      <th>0</th>\n",
       "      <td>Critical</td>\n",
       "      <td>credit_card</td>\n",
       "      <td>2928</td>\n",
       "    </tr>\n",
       "    <tr>\n",
       "      <th>1</th>\n",
       "      <td>Critical</td>\n",
       "      <td>debit_card</td>\n",
       "      <td>62</td>\n",
       "    </tr>\n",
       "    <tr>\n",
       "      <th>2</th>\n",
       "      <td>Critical</td>\n",
       "      <td>e_wallet</td>\n",
       "      <td>204</td>\n",
       "    </tr>\n",
       "    <tr>\n",
       "      <th>3</th>\n",
       "      <td>Critical</td>\n",
       "      <td>money_order</td>\n",
       "      <td>738</td>\n",
       "    </tr>\n",
       "    <tr>\n",
       "      <th>4</th>\n",
       "      <td>High</td>\n",
       "      <td>credit_card</td>\n",
       "      <td>11586</td>\n",
       "    </tr>\n",
       "    <tr>\n",
       "      <th>5</th>\n",
       "      <td>High</td>\n",
       "      <td>debit_card</td>\n",
       "      <td>235</td>\n",
       "    </tr>\n",
       "    <tr>\n",
       "      <th>6</th>\n",
       "      <td>High</td>\n",
       "      <td>e_wallet</td>\n",
       "      <td>831</td>\n",
       "    </tr>\n",
       "    <tr>\n",
       "      <th>7</th>\n",
       "      <td>High</td>\n",
       "      <td>money_order</td>\n",
       "      <td>2847</td>\n",
       "    </tr>\n",
       "    <tr>\n",
       "      <th>8</th>\n",
       "      <td>Low</td>\n",
       "      <td>credit_card</td>\n",
       "      <td>1811</td>\n",
       "    </tr>\n",
       "    <tr>\n",
       "      <th>9</th>\n",
       "      <td>Low</td>\n",
       "      <td>debit_card</td>\n",
       "      <td>30</td>\n",
       "    </tr>\n",
       "    <tr>\n",
       "      <th>10</th>\n",
       "      <td>Low</td>\n",
       "      <td>e_wallet</td>\n",
       "      <td>151</td>\n",
       "    </tr>\n",
       "    <tr>\n",
       "      <th>11</th>\n",
       "      <td>Low</td>\n",
       "      <td>money_order</td>\n",
       "      <td>432</td>\n",
       "    </tr>\n",
       "    <tr>\n",
       "      <th>12</th>\n",
       "      <td>Medium</td>\n",
       "      <td>credit_card</td>\n",
       "      <td>21812</td>\n",
       "    </tr>\n",
       "    <tr>\n",
       "      <th>13</th>\n",
       "      <td>Medium</td>\n",
       "      <td>debit_card</td>\n",
       "      <td>407</td>\n",
       "    </tr>\n",
       "    <tr>\n",
       "      <th>14</th>\n",
       "      <td>Medium</td>\n",
       "      <td>e_wallet</td>\n",
       "      <td>1603</td>\n",
       "    </tr>\n",
       "    <tr>\n",
       "      <th>15</th>\n",
       "      <td>Medium</td>\n",
       "      <td>money_order</td>\n",
       "      <td>5612</td>\n",
       "    </tr>\n",
       "    <tr>\n",
       "      <th>16</th>\n",
       "      <td>Medium</td>\n",
       "      <td>not_defined</td>\n",
       "      <td>1</td>\n",
       "    </tr>\n",
       "  </tbody>\n",
       "</table>\n",
       "</div>"
      ],
      "text/plain": [
       "   Order_Priority Payment_method  Count\n",
       "0        Critical    credit_card   2928\n",
       "1        Critical     debit_card     62\n",
       "2        Critical       e_wallet    204\n",
       "3        Critical    money_order    738\n",
       "4            High    credit_card  11586\n",
       "5            High     debit_card    235\n",
       "6            High       e_wallet    831\n",
       "7            High    money_order   2847\n",
       "8             Low    credit_card   1811\n",
       "9             Low     debit_card     30\n",
       "10            Low       e_wallet    151\n",
       "11            Low    money_order    432\n",
       "12         Medium    credit_card  21812\n",
       "13         Medium     debit_card    407\n",
       "14         Medium       e_wallet   1603\n",
       "15         Medium    money_order   5612\n",
       "16         Medium    not_defined      1"
      ]
     },
     "execution_count": 111,
     "metadata": {},
     "output_type": "execute_result"
    }
   ],
   "source": [
    "grouped_df2 = df.groupby([ 'Order_Priority','Payment_method']).size().reset_index(name='Count')\n",
    "grouped_df2"
   ]
  },
  {
   "cell_type": "code",
   "execution_count": null,
   "id": "6b27684d-8da8-4706-834f-b7888d123bc5",
   "metadata": {},
   "outputs": [],
   "source": [
    "### credit_cards Orders are given more priority"
   ]
  },
  {
   "cell_type": "code",
   "execution_count": null,
   "id": "233282b4-3a10-4154-8ea6-8a1ae3f49cb4",
   "metadata": {},
   "outputs": [],
   "source": []
  },
  {
   "cell_type": "code",
   "execution_count": null,
   "id": "70c4c720-715f-4c74-a2fa-cfe044ad0023",
   "metadata": {},
   "outputs": [],
   "source": []
  },
  {
   "cell_type": "code",
   "execution_count": null,
   "id": "2e4d646e-35c3-4af9-9048-aeb2f96f7a2d",
   "metadata": {},
   "outputs": [],
   "source": []
  }
 ],
 "metadata": {
  "kernelspec": {
   "display_name": "Python 3 (ipykernel)",
   "language": "python",
   "name": "python3"
  },
  "language_info": {
   "codemirror_mode": {
    "name": "ipython",
    "version": 3
   },
   "file_extension": ".py",
   "mimetype": "text/x-python",
   "name": "python",
   "nbconvert_exporter": "python",
   "pygments_lexer": "ipython3",
   "version": "3.12.4"
  }
 },
 "nbformat": 4,
 "nbformat_minor": 5
}
